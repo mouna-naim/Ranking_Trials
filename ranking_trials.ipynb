{
 "cells": [
  {
   "cell_type": "markdown",
   "metadata": {},
   "source": [
    "# Clinical Trials ranking project\n",
    "\n",
    "In this notebook, I focuse on analyzing and processing clinical trial data to enable ranking of trials based on patient information. In this project, I tried to proceed data cleaning, feature extraction, and embedding-based similarity calculations to align clinical trials with individual patient information.\n",
    "\n",
    "## Objectives:\n",
    "1. **Data Cleaning and Preprocessing**: Handle missing values, normalize data, and prepare structured and unstructured fields for analysis.\n",
    "2. **Embedding Generation**: Utilize pre-trained language models to create vector embeddings of unstructured text fields, enabling semantic similarity calculations.\n",
    "3. **Patient-Specific Filtering**: Apply filters based on patient attributes (e.g., age, gender, medical condition) to refine the set of relevant trials.\n",
    "4. **Ranking Clinical Trials**: Rank the filtered trials based on similarity to patient data using cosine similarity scores.\n"
   ]
  },
  {
   "cell_type": "markdown",
   "metadata": {},
   "source": [
    "**Project by:** Mouna NAIM  \n",
    "\n",
    "**Email:** mounanaim5001@gmail.com\n"
   ]
  },
  {
   "cell_type": "markdown",
   "metadata": {},
   "source": [
    "To install necessary packages, please run:\n",
    "```\n",
    "pip install <package_name>\n",
    "```"
   ]
  },
  {
   "cell_type": "code",
   "execution_count": 1,
   "metadata": {},
   "outputs": [
    {
     "name": "stdout",
     "output_type": "stream",
     "text": [
      "WARNING:tensorflow:From c:\\Users\\red-y\\AppData\\Local\\Programs\\Python\\Python310\\lib\\site-packages\\tf_keras\\src\\losses.py:2976: The name tf.losses.sparse_softmax_cross_entropy is deprecated. Please use tf.compat.v1.losses.sparse_softmax_cross_entropy instead.\n",
      "\n"
     ]
    },
    {
     "name": "stderr",
     "output_type": "stream",
     "text": [
      "[nltk_data] Downloading package punkt to\n",
      "[nltk_data]     C:\\Users\\red-y\\AppData\\Roaming\\nltk_data...\n",
      "[nltk_data]   Package punkt is already up-to-date!\n"
     ]
    },
    {
     "data": {
      "text/plain": [
       "True"
      ]
     },
     "execution_count": 1,
     "metadata": {},
     "output_type": "execute_result"
    }
   ],
   "source": [
    "# libraries\n",
    "import pandas as pd\n",
    "import numpy as np\n",
    "from collections import Counter\n",
    "import re\n",
    "import warnings\n",
    "\n",
    "# Machine Learning and NLP libraries\n",
    "import torch\n",
    "from transformers import pipeline\n",
    "from sentence_transformers import SentenceTransformer, util\n",
    "\n",
    "# Progress \n",
    "from tqdm.auto import tqdm\n",
    "\n",
    "# NLTK for tokenization\n",
    "import nltk\n",
    "from nltk.tokenize import sent_tokenize\n",
    "\n",
    "# Download necessary NLTK resources\n",
    "nltk.download('punkt')  # Download Punkt tokenizer models for sentence splitting and word tokenization\n"
   ]
  },
  {
   "cell_type": "markdown",
   "metadata": {},
   "source": [
    "### Explore and clean the data"
   ]
  },
  {
   "cell_type": "code",
   "execution_count": 4,
   "metadata": {},
   "outputs": [
    {
     "data": {
      "text/html": [
       "<div>\n",
       "<style scoped>\n",
       "    .dataframe tbody tr th:only-of-type {\n",
       "        vertical-align: middle;\n",
       "    }\n",
       "\n",
       "    .dataframe tbody tr th {\n",
       "        vertical-align: top;\n",
       "    }\n",
       "\n",
       "    .dataframe thead th {\n",
       "        text-align: right;\n",
       "    }\n",
       "</style>\n",
       "<table border=\"1\" class=\"dataframe\">\n",
       "  <thead>\n",
       "    <tr style=\"text-align: right;\">\n",
       "      <th></th>\n",
       "      <th>nct_id</th>\n",
       "      <th>last_update_submitted_date</th>\n",
       "      <th>overall_status</th>\n",
       "      <th>brief_title</th>\n",
       "      <th>official_title</th>\n",
       "      <th>phase</th>\n",
       "      <th>acronym</th>\n",
       "      <th>study_type</th>\n",
       "      <th>description</th>\n",
       "      <th>minimum_age_num</th>\n",
       "      <th>minimum_age_unit</th>\n",
       "      <th>maximum_age_num</th>\n",
       "      <th>maximum_age_unit</th>\n",
       "      <th>criteria</th>\n",
       "    </tr>\n",
       "  </thead>\n",
       "  <tbody>\n",
       "    <tr>\n",
       "      <th>0</th>\n",
       "      <td>NCT00002462</td>\n",
       "      <td>2023-02-14</td>\n",
       "      <td>Active, not recruiting</td>\n",
       "      <td>RT or No RT Following Chemotherapy in Treating...</td>\n",
       "      <td>Phase III Randomized Trial of Adjuvant Involve...</td>\n",
       "      <td>Phase 3</td>\n",
       "      <td>NaN</td>\n",
       "      <td>Interventional</td>\n",
       "      <td>RATIONALE: Drugs used in chemotherapy use diff...</td>\n",
       "      <td>15.0</td>\n",
       "      <td>Years</td>\n",
       "      <td>70.0</td>\n",
       "      <td>Years</td>\n",
       "      <td>DISEASE CHARACTERISTICS: Histologically proven...</td>\n",
       "    </tr>\n",
       "    <tr>\n",
       "      <th>1</th>\n",
       "      <td>NCT00003980</td>\n",
       "      <td>2012-07-10</td>\n",
       "      <td>Suspended</td>\n",
       "      <td>BIBX 1382 in Treating Patients With Solid Tumors</td>\n",
       "      <td>Phase I and Pharmacokinetics Study to Determin...</td>\n",
       "      <td>Phase 1</td>\n",
       "      <td>NaN</td>\n",
       "      <td>Interventional</td>\n",
       "      <td>RATIONALE: Drugs used in chemotherapy use diff...</td>\n",
       "      <td>18.0</td>\n",
       "      <td>Years</td>\n",
       "      <td>NaN</td>\n",
       "      <td>NaN</td>\n",
       "      <td>DISEASE CHARACTERISTICS: Histologically or cyt...</td>\n",
       "    </tr>\n",
       "    <tr>\n",
       "      <th>2</th>\n",
       "      <td>NCT00005584</td>\n",
       "      <td>2023-02-14</td>\n",
       "      <td>Active, not recruiting</td>\n",
       "      <td>Combination Chemotherapy With or Without Radia...</td>\n",
       "      <td>Prospective Controlled Trial in Clinical Stage...</td>\n",
       "      <td>Phase 3</td>\n",
       "      <td>NaN</td>\n",
       "      <td>Interventional</td>\n",
       "      <td>RATIONALE: Drugs used in chemotherapy use diff...</td>\n",
       "      <td>15.0</td>\n",
       "      <td>Years</td>\n",
       "      <td>70.0</td>\n",
       "      <td>Years</td>\n",
       "      <td>DISEASE CHARACTERISTICS:\\n\\nRandomized groups:...</td>\n",
       "    </tr>\n",
       "    <tr>\n",
       "      <th>3</th>\n",
       "      <td>NCT00049595</td>\n",
       "      <td>2023-11-08</td>\n",
       "      <td>Completed</td>\n",
       "      <td>Comparison of Two Combination Chemotherapy Reg...</td>\n",
       "      <td>BEACOPP (4 Cycles Escalated + 4 Cycles Baselin...</td>\n",
       "      <td>Phase 3</td>\n",
       "      <td>NaN</td>\n",
       "      <td>Interventional</td>\n",
       "      <td>RATIONALE: Drugs used in chemotherapy use diff...</td>\n",
       "      <td>16.0</td>\n",
       "      <td>Years</td>\n",
       "      <td>60.0</td>\n",
       "      <td>Years</td>\n",
       "      <td>DISEASE CHARACTERISTICS:\\n\\nHistologically con...</td>\n",
       "    </tr>\n",
       "    <tr>\n",
       "      <th>4</th>\n",
       "      <td>NCT00055731</td>\n",
       "      <td>2023-01-17</td>\n",
       "      <td>Completed</td>\n",
       "      <td>Hormone Therapy With or Without Docetaxel And ...</td>\n",
       "      <td>Phase III Randomized Study Of Adjuvant Hormona...</td>\n",
       "      <td>Phase 3</td>\n",
       "      <td>NaN</td>\n",
       "      <td>Interventional</td>\n",
       "      <td>RATIONALE: Androgens can stimulate the growth ...</td>\n",
       "      <td>0.0</td>\n",
       "      <td>Years</td>\n",
       "      <td>79.0</td>\n",
       "      <td>Years</td>\n",
       "      <td>DISEASE CHARACTERISTICS:\\n\\nHistologically con...</td>\n",
       "    </tr>\n",
       "  </tbody>\n",
       "</table>\n",
       "</div>"
      ],
      "text/plain": [
       "        nct_id last_update_submitted_date          overall_status  \\\n",
       "0  NCT00002462                 2023-02-14  Active, not recruiting   \n",
       "1  NCT00003980                 2012-07-10               Suspended   \n",
       "2  NCT00005584                 2023-02-14  Active, not recruiting   \n",
       "3  NCT00049595                 2023-11-08               Completed   \n",
       "4  NCT00055731                 2023-01-17               Completed   \n",
       "\n",
       "                                         brief_title  \\\n",
       "0  RT or No RT Following Chemotherapy in Treating...   \n",
       "1   BIBX 1382 in Treating Patients With Solid Tumors   \n",
       "2  Combination Chemotherapy With or Without Radia...   \n",
       "3  Comparison of Two Combination Chemotherapy Reg...   \n",
       "4  Hormone Therapy With or Without Docetaxel And ...   \n",
       "\n",
       "                                      official_title    phase acronym  \\\n",
       "0  Phase III Randomized Trial of Adjuvant Involve...  Phase 3     NaN   \n",
       "1  Phase I and Pharmacokinetics Study to Determin...  Phase 1     NaN   \n",
       "2  Prospective Controlled Trial in Clinical Stage...  Phase 3     NaN   \n",
       "3  BEACOPP (4 Cycles Escalated + 4 Cycles Baselin...  Phase 3     NaN   \n",
       "4  Phase III Randomized Study Of Adjuvant Hormona...  Phase 3     NaN   \n",
       "\n",
       "       study_type                                        description  \\\n",
       "0  Interventional  RATIONALE: Drugs used in chemotherapy use diff...   \n",
       "1  Interventional  RATIONALE: Drugs used in chemotherapy use diff...   \n",
       "2  Interventional  RATIONALE: Drugs used in chemotherapy use diff...   \n",
       "3  Interventional  RATIONALE: Drugs used in chemotherapy use diff...   \n",
       "4  Interventional  RATIONALE: Androgens can stimulate the growth ...   \n",
       "\n",
       "   minimum_age_num minimum_age_unit  maximum_age_num maximum_age_unit  \\\n",
       "0             15.0            Years             70.0            Years   \n",
       "1             18.0            Years              NaN              NaN   \n",
       "2             15.0            Years             70.0            Years   \n",
       "3             16.0            Years             60.0            Years   \n",
       "4              0.0            Years             79.0            Years   \n",
       "\n",
       "                                            criteria  \n",
       "0  DISEASE CHARACTERISTICS: Histologically proven...  \n",
       "1  DISEASE CHARACTERISTICS: Histologically or cyt...  \n",
       "2  DISEASE CHARACTERISTICS:\\n\\nRandomized groups:...  \n",
       "3  DISEASE CHARACTERISTICS:\\n\\nHistologically con...  \n",
       "4  DISEASE CHARACTERISTICS:\\n\\nHistologically con...  "
      ]
     },
     "execution_count": 4,
     "metadata": {},
     "output_type": "execute_result"
    }
   ],
   "source": [
    "# Load Data\n",
    "file_path = 'trials.csv'  #Path of the data \n",
    "data = pd.read_csv(file_path, delimiter=';')\n",
    "data.head()"
   ]
  },
  {
   "cell_type": "code",
   "execution_count": 5,
   "metadata": {},
   "outputs": [
    {
     "name": "stdout",
     "output_type": "stream",
     "text": [
      "Missing Data Summary:\n",
      "nct_id                          0\n",
      "last_update_submitted_date      0\n",
      "overall_status                  0\n",
      "brief_title                     0\n",
      "official_title                  3\n",
      "phase                           0\n",
      "acronym                       379\n",
      "study_type                      0\n",
      "description                     0\n",
      "minimum_age_num                29\n",
      "minimum_age_unit               29\n",
      "maximum_age_num               787\n",
      "maximum_age_unit              787\n",
      "criteria                        0\n",
      "dtype: int64\n"
     ]
    }
   ],
   "source": [
    "# Display Missing Values\n",
    "missing_data = data.isna().sum()\n",
    "print(\"Missing Data Summary:\")\n",
    "print(missing_data)"
   ]
  },
  {
   "cell_type": "markdown",
   "metadata": {},
   "source": [
    "The data contains missing values in official_title, acronym, and age columns"
   ]
  },
  {
   "cell_type": "markdown",
   "metadata": {},
   "source": [
    "### Dealing with missing values"
   ]
  },
  {
   "cell_type": "code",
   "execution_count": null,
   "metadata": {},
   "outputs": [],
   "source": [
    "# We replace the Nan acronyms by No Acronym\n",
    "data['acronym'] = data['acronym'].fillna('No Acronym') \n",
    "\n",
    "# We replace Nan values in official title column with the corresponding values from the brief_title column\n",
    "data['official_title'] = data['official_title'].fillna(data['brief_title']) "
   ]
  },
  {
   "cell_type": "code",
   "execution_count": 8,
   "metadata": {},
   "outputs": [
    {
     "name": "stdout",
     "output_type": "stream",
     "text": [
      "units for minimum age is {nan, 'Year', 'Years', 'Months', 'Month', 'Day'}\n",
      "units for maximum age is {'Years', nan}\n"
     ]
    }
   ],
   "source": [
    "units = data['minimum_age_unit']\n",
    "count_units_min =set(units)\n",
    "print(f\"units for minimum age is {count_units_min}\")\n",
    "\n",
    "units_max = data['maximum_age_unit']\n",
    "count_units_max =set(units_max)\n",
    "print(f\"units for maximum age is {count_units_max}\")"
   ]
  },
  {
   "cell_type": "markdown",
   "metadata": {},
   "source": [
    "\n",
    "In the age data, we have five different units, which is not practical. The idea here is to normalize all ages to the unit of years. Then, we create two columns: the first one, `minimum_age`, contains the minimum age in years (without units), and the second column, `maximum_age`, contains the maximum age in years (without units)."
   ]
  },
  {
   "cell_type": "code",
   "execution_count": 31,
   "metadata": {},
   "outputs": [],
   "source": [
    "## In this function, all ages are converted to years unit\n",
    "def normalize_age(num, unit): \n",
    "    if pd.isna(num) or pd.isna(unit):\n",
    "        return None\n",
    "    unit_lower = unit.lower()\n",
    "    if 'year' in unit_lower or 'years' in unit_lower:\n",
    "        return num\n",
    "    elif 'month' in unit_lower or 'months' in unit_lower:\n",
    "        return num / 12\n",
    "    elif 'day' in unit_lower or 'days' in unit_lower:\n",
    "        return num / 365\n",
    "    else:\n",
    "        return None\n",
    "\n",
    "# We add two columns minimun_age and maximum_age, that contain only ages in years\n",
    "data['minimum_age'] = data.apply(lambda x: normalize_age(x['minimum_age_num'], x['minimum_age_unit']), axis=1)\n",
    "data['maximum_age'] = data.apply(lambda x: normalize_age(x['maximum_age_num'], x['maximum_age_unit']), axis=1)"
   ]
  },
  {
   "cell_type": "markdown",
   "metadata": {},
   "source": [
    "Up to this point, the columns `minimum_age` and `maximum_age` have been added to the dataset. These two columns replace the four columns: `minimum_age_num`, `maximum_age_num`, `minimum_age_unit`, and `maximum_age_unit`, which will be dropped from the original dataset in the next cell.\n"
   ]
  },
  {
   "cell_type": "code",
   "execution_count": 32,
   "metadata": {},
   "outputs": [],
   "source": [
    "# Dropping minimum_age_num, maximum_age_num, minimum_age_unit, maximum_age_unit\n",
    "columns_to_drop = ['minimum_age_num', 'maximum_age_num', 'minimum_age_unit', 'maximum_age_unit']\n",
    "data = data.drop(columns=columns_to_drop, errors='ignore')"
   ]
  },
  {
   "cell_type": "code",
   "execution_count": 33,
   "metadata": {},
   "outputs": [
    {
     "data": {
      "text/plain": [
       "Index(['nct_id', 'last_update_submitted_date', 'overall_status', 'brief_title',\n",
       "       'official_title', 'phase', 'acronym', 'study_type', 'description',\n",
       "       'criteria', 'gender', 'inclusion_criteria', 'exclusion_criteria',\n",
       "       'organs', 'keywords', 'combined_text', 'text_embedding', 'minimum_age',\n",
       "       'maximum_age'],\n",
       "      dtype='object')"
      ]
     },
     "execution_count": 33,
     "metadata": {},
     "output_type": "execute_result"
    }
   ],
   "source": [
    "data.columns"
   ]
  },
  {
   "cell_type": "markdown",
   "metadata": {},
   "source": [
    "## Ranking function\n",
    "### Step 1: Classification of gender \n",
    "Given patient data (age, gender, organs, or other additional information), we need to identify the most relevant information in the data that matches the patient's profile. To rank the clinical trials, I proposed creating a function based on transformers, leveraging the description column. This column provides insights into whether a trial is suitable for men, women, or both.\n",
    "\n",
    "To achieve this, I will use a pretrained classification Transformer to classify the description based on their applicability to men, women, or both. This classification will help determine the suitability of each clinical trial for a given patient profile.\n"
   ]
  },
  {
   "cell_type": "markdown",
   "metadata": {},
   "source": [
    "Firstable, I tried a simple classication (in the function below) using the key works like male, man, men or female, woman, women, but the results was not satisfying."
   ]
  },
  {
   "cell_type": "code",
   "execution_count": 11,
   "metadata": {},
   "outputs": [
    {
     "data": {
      "application/vnd.jupyter.widget-view+json": {
       "model_id": "081798e57a8c4eb0954e3e97fd252e18",
       "version_major": 2,
       "version_minor": 0
      },
      "text/plain": [
       "  0%|          | 0/1000 [00:00<?, ?it/s]"
      ]
     },
     "metadata": {},
     "output_type": "display_data"
    }
   ],
   "source": [
    "tqdm.pandas()\n",
    "def classify_gender_simple(description_text):\n",
    "    \"\"\"\n",
    "    Classify gender requirement using keyword matching\n",
    "\n",
    "    \"\"\"\n",
    "    if pd.isna(description_text) or description_text.strip() == '':\n",
    "        return 'Both'\n",
    "\n",
    "    description_text_lower = description_text.lower()\n",
    "    if re.search(r'\\b(male|man|men)\\b', description_text_lower) and not re.search(r'\\b(female|woman|women)\\b', description_text_lower):\n",
    "        return 'Male'\n",
    "    elif re.search(r'\\b(female|woman|women)\\b', description_text_lower) and not re.search(r'\\b(male|man|men)\\b', description_text_lower):\n",
    "        return 'Female'\n",
    "    else:\n",
    "        return 'Both'\n",
    "\n",
    "genders = data['description'].fillna('').progress_apply(classify_gender_simple)\n",
    "#print(genders)"
   ]
  },
  {
   "cell_type": "markdown",
   "metadata": {},
   "source": [
    "So, I tried to use Transformers to classify the gender of patients.\n",
    "\n",
    "This function determine the gender (Male, Female, Both) for admitted patients for a clinical trial using Transformers. \n",
    "It uses a combination of regular expression (regex) search and zero-shot classification with a natural language model to classify clinical trials based on gender criteria specified in the description column."
   ]
  },
  {
   "cell_type": "code",
   "execution_count": null,
   "metadata": {},
   "outputs": [
    {
     "name": "stdout",
     "output_type": "stream",
     "text": [
      "Using device: GPU\n",
      "Performing regex pre-check on 'description'...\n"
     ]
    },
    {
     "data": {
      "application/vnd.jupyter.widget-view+json": {
       "model_id": "c82df41ea2e44e719012c3d46e28d807",
       "version_major": 2,
       "version_minor": 0
      },
      "text/plain": [
       "  0%|          | 0/1000 [00:00<?, ?it/s]"
      ]
     },
     "metadata": {},
     "output_type": "display_data"
    },
    {
     "name": "stdout",
     "output_type": "stream",
     "text": [
      "Classifying Gender with Zero-Shot Classifier...\n"
     ]
    },
    {
     "data": {
      "application/vnd.jupyter.widget-view+json": {
       "model_id": "6ceb76619e8045309864c0094f1a94a8",
       "version_major": 2,
       "version_minor": 0
      },
      "text/plain": [
       "Processing Batches:   0%|          | 0/6 [00:00<?, ?it/s]"
      ]
     },
     "metadata": {},
     "output_type": "display_data"
    },
    {
     "name": "stdout",
     "output_type": "stream",
     "text": [
      "Gender classification completed.\n",
      "['Both', 'Both', 'Female', 'Both', 'Both', 'Female', 'Both', 'Female', 'Female', 'Both', 'Male', 'Both', 'Both', 'Both', 'Both', 'Both', 'Female', 'Both', 'Both', 'Both', 'Both', 'Both', 'Both', 'Both', 'Both', 'Female', 'Female', 'Male', 'Female', 'Both', 'Both', 'Both', 'Both', 'Both', 'Both', 'Male', 'Both', 'Both', 'Female', 'Male', 'Both', 'Male', 'Female', 'Both', 'Both', 'Both', 'Both', 'Both']\n"
     ]
    }
   ],
   "source": [
    "# To delete the specific warning about length mismatch\n",
    "warnings.filterwarnings(\"ignore\", message=\"Length of IterableDataset .*\")\n",
    "\n",
    "# Initialize tqdm for pandas\n",
    "tqdm.pandas()\n",
    "\n",
    "# Choose the device (GPU or CPU)\n",
    "device = 0 if torch.cuda.is_available() else -1\n",
    "print(f\"Using device: {'GPU' if device == 0 else 'CPU'}\")\n",
    "\n",
    "# Initialize the zero-shot classification pipeline\n",
    "classifier = pipeline(\n",
    "    'zero-shot-classification',\n",
    "    model='valhalla/distilbart-mnli-12-1', # Model I found on hugging face library https://huggingface.co/tasks/zero-shot-classification\n",
    "    device=device\n",
    ")\n",
    "\n",
    "# In this tab, I add line indices if male or female is found in the description column\n",
    "needs_classification = []\n",
    "print(\"Performing regex pre-check on 'description'...\")\n",
    "# Convert description line into lower \n",
    "for index, row in tqdm(data.iterrows(), total=data.shape[0]):\n",
    "    description_text = str(row['description']).lower()\n",
    "\n",
    "    # Return both if male or female not found \n",
    "    if not re.search(r'\\b(male|man|men)\\b', description_text) and not re.search(r'\\b(female|woman|women)\\b', description_text):\n",
    "        data.at[index, 'gender'] = 'Both'\n",
    "    else:\n",
    "        needs_classification.append(index)\n",
    "\n",
    "# Process the entries that need classification in batches\n",
    "if needs_classification:\n",
    "    batch_size = 8  #For GPU\n",
    "    # Update candidate labels to more relevant phrases\n",
    "    candidate_labels = ['only male candidates', 'only female candidates']\n",
    "    texts_to_classify = data.loc[needs_classification, 'description'].fillna('').tolist()\n",
    "    indices = needs_classification\n",
    "\n",
    "    print(\"Classifying Gender with Zero-Shot Classifier...\")\n",
    "    genders = []\n",
    "    for i in tqdm(range(0, len(texts_to_classify), batch_size), desc=\"Processing Batches\"):\n",
    "        batch_texts = texts_to_classify[i:i+batch_size]\n",
    "        # Pre-truncate texts to prevent splitting\n",
    "        batch_texts = [text[:1000] for text in batch_texts] \n",
    "        try:\n",
    "            results = classifier(\n",
    "                batch_texts,\n",
    "                candidate_labels,\n",
    "                truncation=True,\n",
    "                max_length=512\n",
    "            )\n",
    "            for result in results:\n",
    "                predicted_label = result['labels'][0]\n",
    "                score = result['scores'][0]\n",
    "\n",
    "                if score >= 0.9:\n",
    "                    if predicted_label == 'only male candidates':\n",
    "                        genders.append('Male')\n",
    "                    elif predicted_label == 'only female candidates':\n",
    "                        genders.append('Female')\n",
    "                    else:\n",
    "                        # In case the predicted label is not in expected labels\n",
    "                        genders.append('Both')\n",
    "                else:\n",
    "                    # If the confidence score is below 0.9, assign 'Both' \n",
    "                    genders.append('Both')\n",
    "        except Exception as e:\n",
    "            print(f\"Classification error: {e}\")\n",
    "            genders.extend(['Both'] * len(batch_texts))\n",
    "\n",
    "    # Assign the results back to the DataFrame\n",
    "    for idx, gender in zip(indices, genders):\n",
    "        data.at[idx, 'gender'] = gender\n",
    "else:\n",
    "    print(\"No entries required classification with the zero-shot classifier.\")\n",
    "\n",
    "print(\"Gender classification completed.\")\n",
    "print(genders)"
   ]
  },
  {
   "cell_type": "markdown",
   "metadata": {},
   "source": [
    "## Step 2: Classifying inclusion and exclusion criteria"
   ]
  },
  {
   "cell_type": "markdown",
   "metadata": {},
   "source": [
    "The `criteria` column contains both inclusion and exclusion `criteria`. In this section, I will attempt to separate them using zero-shot classification. The function below parses the clinical trial's textual \"criteria\" and separates them into distinct `inclusion_criteria` and `exclusion_criteria`."
   ]
  },
  {
   "cell_type": "code",
   "execution_count": null,
   "metadata": {},
   "outputs": [
    {
     "name": "stdout",
     "output_type": "stream",
     "text": [
      "Using device: GPU\n"
     ]
    }
   ],
   "source": [
    "# tqdm for pandas\n",
    "tqdm.pandas()\n",
    "\n",
    "# Choose the device (GPU or CPU)\n",
    "device = 0 if torch.cuda.is_available() else -1\n",
    "print(f\"Using device: {'GPU' if device == 0 else 'CPU'}\")\n",
    "\n",
    "# Initialize the zero-shot classification pipeline\n",
    "classifier = pipeline(\n",
    "    'zero-shot-classification',\n",
    "    model='valhalla/distilbart-mnli-12-1', \n",
    "    device=device\n",
    ")\n",
    "\n",
    "def parse_criteria_line_by_line(criteria_text):\n",
    " \n",
    "    if pd.isna(criteria_text) or criteria_text.strip() == '':\n",
    "        return pd.Series({'inclusion_criteria': '', 'exclusion_criteria': ''})\n",
    "    \n",
    "    # Split the text into lines\n",
    "    lines = criteria_text.strip().split('\\n')\n",
    "\n",
    "    # Remove empty lines and strip whitespace\n",
    "    lines = [line.strip() for line in lines if line.strip()]\n",
    "    \n",
    "    # Prepare lists to hold inclusion and exclusion criteria\n",
    "    inclusion_lines = []\n",
    "    exclusion_lines = []\n",
    "    \n",
    "    # Initialize the last predicted label \n",
    "    last_label = None\n",
    "    started = False  # Start adding lines after finding a line with score >= 0.9\n",
    "    \n",
    "    # Define labels\n",
    "    candidate_labels = ['inclusion criteria', 'exclusion criteria']\n",
    "    \n",
    "    # Process lines in batches\n",
    "    batch_size = 1000  \n",
    "    for i in range(0, len(lines), batch_size):\n",
    "        batch_lines = lines[i:i+batch_size]\n",
    "        # Skip very short lines\n",
    "        batch_lines = [line for line in batch_lines if len(line) >= 3]\n",
    "        if not batch_lines:\n",
    "            continue\n",
    "        try:\n",
    "            # Classify the batch of lines\n",
    "            results = classifier(\n",
    "                batch_lines,\n",
    "                candidate_labels,\n",
    "                truncation=True,\n",
    "                max_length=512\n",
    "            )\n",
    "            for result, line in zip(results, batch_lines):\n",
    "                predicted_label = result['labels'][0]\n",
    "                score = result['scores'][0]\n",
    "                \n",
    "                if score >= 0.9:\n",
    "                    last_label = predicted_label\n",
    "                    started = True  # Start adding lines once we have a confident prediction\n",
    "                \n",
    "                if started and last_label:\n",
    "                    if last_label == 'inclusion criteria':\n",
    "                        inclusion_lines.append(line)\n",
    "                    elif last_label == 'exclusion criteria':\n",
    "                        exclusion_lines.append(line)\n",
    "            torch.cuda.empty_cache()  # Clear cache after processing each batch\n",
    "        except Exception as e:\n",
    "            # I skip the batch if there is an error\n",
    "            print(f\"Classification error: {e}\")\n",
    "            continue\n",
    "    \n",
    "    # Combine the lines back into text\n",
    "    inclusion_text = '\\n'.join(inclusion_lines)\n",
    "    exclusion_text = '\\n'.join(exclusion_lines)\n",
    "    \n",
    "    return pd.Series({'inclusion_criteria': inclusion_text, 'exclusion_criteria': exclusion_text}) # return a serie\n"
   ]
  },
  {
   "cell_type": "markdown",
   "metadata": {},
   "source": [
    "#### test of the function parse_criteria_line_by_line"
   ]
  },
  {
   "cell_type": "code",
   "execution_count": 18,
   "metadata": {},
   "outputs": [
    {
     "name": "stdout",
     "output_type": "stream",
     "text": [
      "inclusion_criteria    Inclusion Criteria:\\nMales and females of 18 y...\n",
      "exclusion_criteria    Exclusion Criteria:\\nAny significant medical c...\n",
      "dtype: object\n",
      "Inclusion Criteria:\n",
      "\n",
      "Males and females of 18 years of age to 80 years of age.\n",
      "Understand and voluntarily sign an informed consent document prior to any study related assessments/procedures are conducted.\n",
      "Able to adhere to the study visit schedule and other protocol requirements.\n",
      "\n",
      "Patients with histologically proven peripheral T-cell lymphoma (PTCL), not previously treated; the following subtypes as defined by the World Health Organization (WHO) classification (2008;2011) may be included, whatever the Ann Arbor stage (I - IV):\n",
      "\n",
      "a. Nodal types: i. PTCL, not otherwise specified ii. Angioimmunoblastic T-cell lymphoma iii. Anaplastic large cell lymphoma, anaplastic lymphoma kinase (ALK)-negative type\n",
      "\n",
      "b. Extra-nodal types: i. Enteropathy-associated T-cell lymphoma ii. Hepato-splenic T-cell lymphoma iii. Subcutaneous panniculitis-like T-cell lymphoma iv. Primary cutaneous gamma-delta T-cell lymphoma v. Primary cutaneous cluster of differentiation 8 positive (CD8+) aggressive epidermotropic lymphoma vi. Primary cutaneous cluster of differentiation 4 positive (CD4+) small/medium T-cell lymphoma\n",
      "\n",
      "c. Other non classifiable peripheral T-cell lymphoma\n",
      "\n",
      "Eastern Cooperative Oncology Group (ECOG) performance status 0, 1 or 2\n",
      "Negative pregnancy test for Females of ChildBearing Potential (FCBP)\n",
      "Female patients of child bearing potential must use an effective method of birth control (i.e. hormonal contraceptive, intrauterine device, diaphragm with spermicide, condom with spermicide or abstinence) during treatment period and 1 month thereafter; Males must use an effective method of birth control during treatment period and 3 months thereafter.\n",
      "Life expectancy of ≥ 90 days (3 months).\n",
      "\n",
      "Exclusion Criteria:\n",
      "\n",
      "Any significant medical condition, laboratory abnormality, or psychiatric illness that would prevent the patient from participating in the study.\n",
      "Any condition that confounds the ability to interpret data from the study.\n",
      "Other types of lymphomas, e.g. B-cell lymphoma\n",
      "\n",
      "The following types of T cell lymphomas:\n",
      "\n",
      "Adult T-cell lymphoma/leukemia (HTLV-1 related T-cell lymphoma)\n",
      "Extranodal T-cell/Natural Killer (NK)-cell lymphoma, nasal type\n",
      "Anaplastic large cell lymphoma, ALK-positive type\n",
      "Cutaneous T cell lymphoma (mycosis fungoid, Sézary syndrome)\n",
      "Primary cutaneous cluster of differentiation antigen 30 positive (CD30+) T-cell lymphoproliferative disorder\n",
      "Primary cutaneous anaplastic T-cell lymphoma\n",
      "Previous treatment for PTCL with immunotherapy or chemotherapy except for short-term corticosteroids (duration of ≤ 8 days) before randomization\n",
      "Previous radiotherapy for PTCL except if localized to one lymph node area\n",
      "Patients planned for autologous or allogeneic transplant as consolidation in first line\n",
      "Central nervous system -meningeal involvement\n",
      "Contraindication to any drug contained in the chemotherapy regimen,\n",
      "Subjects with HIV positivity\n",
      "Subjects with active hepatitis B or C. Chronic carriers of Hepatitis B virus (HBV) without HBV DNA positive blood are eligible. Subjects with non-active hepatitis C (with normal transaminases) are eligible.\n",
      "\n",
      "Any of the following laboratory abnormalities, except if secondary to the lymphoma:\n",
      "\n",
      "Absolute neutrophil count (ANC) < 1,500 cells/mm3 (1.5 x 109/L),\n",
      "Platelet count < 100,000/mm3 (100 x 109/L), or < 75,000/mm3 if bone marrow is involved,\n",
      "Serum Aspartate Aminotransferase (ASAT/AST) or Alanine Aminotransferase (ALAT/ALT) ≥ 3.0 x Upper Limit of Normal (ULN),\n",
      "Serum total bilirubin > 2 x ULN, except in case of hemolytic anemia,\n",
      "K+ and Mg2+ levels < Lower Limit of Normal (LLN), except if corrected per protocol guidance before beginning the romidepsin infusion\n",
      "Serum creatinine > 2.0 x ULN\n",
      "Prior history of malignancies other than lymphoma (except for basal cell or squamous cell carcinoma of the skin or carcinoma in situ of the cervix or breast or untreated prostatic cancer without any plan for a treatment) unless the patient has been free of the disease for ≥ 3 years\n",
      "Any serious medical condition, laboratory abnormality, or psychiatric illness that would prevent the patient from signing the informed consent form\n",
      "\n",
      "Any known cardiac abnormalities such as:\n",
      "\n",
      "Patients with congenital long QT syndrome\n",
      "Corrected QT interval > 480 msec (using the Fridericia formula)\n",
      "Myocardial infarction within 6 months of cycle 1 day 1\n",
      "History of or concomitant significant cardiovascular disease\n",
      "Ejection fraction <45% by multigated acquisition (MUGA) scan or by echocardiogram;\n",
      "Concomitant use of drugs that may cause a significant prolongation of the corrected QT interval (QTc)\n",
      "Patients who have received more than 200 mg/m2 doxorubicin\n",
      "Concomitant use of strong CYP3A4 inhibitors\n",
      "Concomitant use of therapeutic warfarin due to a potential drug interaction. Use of a low dose of warfarin or another anticoagulant to maintain patency of venous access port and cannulas is permitted.\n",
      "Clinically significant active infection\n",
      "Use of any standard or experimental anti-cancer drug therapy within 28 days of the initiation (Day 1) of study drug\n",
      "Pregnant or lactating females or women of childbearing potential not willing to use an adequate method of birth control for the duration of the study.\n",
      "Inclusion Criteria:\n",
      "Inclusion Criteria:\n",
      "Males and females of 18 years of age to 80 years of age.\n",
      "Understand and voluntarily sign an informed consent document prior to any study related assessments/procedures are conducted.\n",
      "Able to adhere to the study visit schedule and other protocol requirements.\n",
      "Patients with histologically proven peripheral T-cell lymphoma (PTCL), not previously treated; the following subtypes as defined by the World Health Organization (WHO) classification (2008;2011) may be included, whatever the Ann Arbor stage (I - IV):\n",
      "a. Nodal types: i. PTCL, not otherwise specified ii. Angioimmunoblastic T-cell lymphoma iii. Anaplastic large cell lymphoma, anaplastic lymphoma kinase (ALK)-negative type\n",
      "b. Extra-nodal types: i. Enteropathy-associated T-cell lymphoma ii. Hepato-splenic T-cell lymphoma iii. Subcutaneous panniculitis-like T-cell lymphoma iv. Primary cutaneous gamma-delta T-cell lymphoma v. Primary cutaneous cluster of differentiation 8 positive (CD8+) aggressive epidermotropic lymphoma vi. Primary cutaneous cluster of differentiation 4 positive (CD4+) small/medium T-cell lymphoma\n",
      "c. Other non classifiable peripheral T-cell lymphoma\n",
      "Eastern Cooperative Oncology Group (ECOG) performance status 0, 1 or 2\n",
      "Negative pregnancy test for Females of ChildBearing Potential (FCBP)\n",
      "Female patients of child bearing potential must use an effective method of birth control (i.e. hormonal contraceptive, intrauterine device, diaphragm with spermicide, condom with spermicide or abstinence) during treatment period and 1 month thereafter; Males must use an effective method of birth control during treatment period and 3 months thereafter.\n",
      "Life expectancy of ≥ 90 days (3 months).\n",
      "Use of any standard or experimental anti-cancer drug therapy within 28 days of the initiation (Day 1) of study drug\n",
      "Pregnant or lactating females or women of childbearing potential not willing to use an adequate method of birth control for the duration of the study.\n",
      "\n",
      "Exclusion Criteria:\n",
      "Exclusion Criteria:\n",
      "Any significant medical condition, laboratory abnormality, or psychiatric illness that would prevent the patient from participating in the study.\n",
      "Any condition that confounds the ability to interpret data from the study.\n",
      "Other types of lymphomas, e.g. B-cell lymphoma\n",
      "The following types of T cell lymphomas:\n",
      "Adult T-cell lymphoma/leukemia (HTLV-1 related T-cell lymphoma)\n",
      "Extranodal T-cell/Natural Killer (NK)-cell lymphoma, nasal type\n",
      "Anaplastic large cell lymphoma, ALK-positive type\n",
      "Cutaneous T cell lymphoma (mycosis fungoid, Sézary syndrome)\n",
      "Primary cutaneous cluster of differentiation antigen 30 positive (CD30+) T-cell lymphoproliferative disorder\n",
      "Primary cutaneous anaplastic T-cell lymphoma\n",
      "Previous treatment for PTCL with immunotherapy or chemotherapy except for short-term corticosteroids (duration of ≤ 8 days) before randomization\n",
      "Previous radiotherapy for PTCL except if localized to one lymph node area\n",
      "Patients planned for autologous or allogeneic transplant as consolidation in first line\n",
      "Central nervous system -meningeal involvement\n",
      "Contraindication to any drug contained in the chemotherapy regimen,\n",
      "Subjects with HIV positivity\n",
      "Subjects with active hepatitis B or C. Chronic carriers of Hepatitis B virus (HBV) without HBV DNA positive blood are eligible. Subjects with non-active hepatitis C (with normal transaminases) are eligible.\n",
      "Any of the following laboratory abnormalities, except if secondary to the lymphoma:\n",
      "Absolute neutrophil count (ANC) < 1,500 cells/mm3 (1.5 x 109/L),\n",
      "Platelet count < 100,000/mm3 (100 x 109/L), or < 75,000/mm3 if bone marrow is involved,\n",
      "Serum Aspartate Aminotransferase (ASAT/AST) or Alanine Aminotransferase (ALAT/ALT) ≥ 3.0 x Upper Limit of Normal (ULN),\n",
      "Serum total bilirubin > 2 x ULN, except in case of hemolytic anemia,\n",
      "K+ and Mg2+ levels < Lower Limit of Normal (LLN), except if corrected per protocol guidance before beginning the romidepsin infusion\n",
      "Serum creatinine > 2.0 x ULN\n",
      "Prior history of malignancies other than lymphoma (except for basal cell or squamous cell carcinoma of the skin or carcinoma in situ of the cervix or breast or untreated prostatic cancer without any plan for a treatment) unless the patient has been free of the disease for ≥ 3 years\n",
      "Any serious medical condition, laboratory abnormality, or psychiatric illness that would prevent the patient from signing the informed consent form\n",
      "Any known cardiac abnormalities such as:\n",
      "Patients with congenital long QT syndrome\n",
      "Corrected QT interval > 480 msec (using the Fridericia formula)\n",
      "Myocardial infarction within 6 months of cycle 1 day 1\n",
      "History of or concomitant significant cardiovascular disease\n",
      "Ejection fraction <45% by multigated acquisition (MUGA) scan or by echocardiogram;\n",
      "Concomitant use of drugs that may cause a significant prolongation of the corrected QT interval (QTc)\n",
      "Patients who have received more than 200 mg/m2 doxorubicin\n",
      "Concomitant use of strong CYP3A4 inhibitors\n",
      "Concomitant use of therapeutic warfarin due to a potential drug interaction. Use of a low dose of warfarin or another anticoagulant to maintain patency of venous access port and cannulas is permitted.\n",
      "Clinically significant active infection\n"
     ]
    }
   ],
   "source": [
    "# Test on a sample\n",
    "sample_text = data['criteria'].iloc[100]  # I choose randomly the index 100 to test the function\n",
    "parsed_criteria = parse_criteria_line_by_line(sample_text)\n",
    "print(parsed_criteria)\n",
    "print(data['criteria'][100])\n",
    "print(\"Inclusion Criteria:\")\n",
    "print(parsed_criteria['inclusion_criteria'])\n",
    "print(\"\\nExclusion Criteria:\")\n",
    "print(parsed_criteria['exclusion_criteria'])\n"
   ]
  },
  {
   "cell_type": "code",
   "execution_count": 19,
   "metadata": {},
   "outputs": [
    {
     "name": "stdout",
     "output_type": "stream",
     "text": [
      "Parsing criteria texts...\n"
     ]
    },
    {
     "data": {
      "application/vnd.jupyter.widget-view+json": {
       "model_id": "be2f479c1f2249ed97272494f28cbd91",
       "version_major": 2,
       "version_minor": 0
      },
      "text/plain": [
       "  0%|          | 0/1000 [00:00<?, ?it/s]"
      ]
     },
     "metadata": {},
     "output_type": "display_data"
    },
    {
     "name": "stderr",
     "output_type": "stream",
     "text": [
      "You seem to be using the pipelines sequentially on GPU. In order to maximize efficiency please use a dataset\n"
     ]
    }
   ],
   "source": [
    "# Apply the parsing function to thz data with a progress bar\n",
    "print(\"Parsing criteria texts...\")\n",
    "criteria_df = data['criteria'].progress_apply(parse_criteria_line_by_line)\n",
    "# Concatenate the new columns to the data\n",
    "data = pd.concat([data, criteria_df], axis=1)\n"
   ]
  },
  {
   "cell_type": "markdown",
   "metadata": {},
   "source": [
    "In this function, we extract organs present in brief_title, official_title, description, criteria. Then, I add the organ column to my data"
   ]
  },
  {
   "cell_type": "code",
   "execution_count": 20,
   "metadata": {},
   "outputs": [
    {
     "data": {
      "text/plain": [
       "0                        [skin]\n",
       "1                       [brain]\n",
       "2                        [skin]\n",
       "3                        [skin]\n",
       "4              [prostate, skin]\n",
       "                 ...           \n",
       "995    [breast, prostate, skin]\n",
       "996              [breast, skin]\n",
       "997                  [prostate]\n",
       "998      [breast, kidney, skin]\n",
       "999              [breast, skin]\n",
       "Name: organs, Length: 1000, dtype: object"
      ]
     },
     "execution_count": 20,
     "metadata": {},
     "output_type": "execute_result"
    }
   ],
   "source": [
    "organs = ['Lung', 'Bladder', 'Breast', 'Prostate', 'Gastric', 'Brain', 'Skin',\n",
    "          'Colon', 'Vulva', 'Thyroid', 'Kidney', 'Pleura']\n",
    "organs_lower = [organ.lower() for organ in organs]\n",
    "\n",
    "def extract_organs_from_text(row):\n",
    "    \"\"\"\n",
    "    Identify organs mentioned in all relevant columns.\n",
    "    \"\"\"\n",
    "    text = ' '.join([\n",
    "        str(row['brief_title']),\n",
    "        str(row['official_title']),\n",
    "        str(row['description']),\n",
    "        str(row['criteria'])\n",
    "    ]).lower()\n",
    "    found_organs = [organ for organ in organs_lower if organ in text]\n",
    "    return list(set(found_organs))\n",
    "\n",
    "data['organs'] = data.apply(extract_organs_from_text, axis=1)\n",
    "data['organs']"
   ]
  },
  {
   "cell_type": "markdown",
   "metadata": {},
   "source": [
    "In this function, I search key words in the brief_title, official_title, description. In other words, I delete stopping words from these three columns. Then, I add a column named `keywords` containing the key words."
   ]
  },
  {
   "cell_type": "code",
   "execution_count": null,
   "metadata": {},
   "outputs": [
    {
     "data": {
      "text/plain": [
       "0      [phase, ways, different, mopp, purpose, combin...\n",
       "1      [phase, ways, determine, different, solid, adm...\n",
       "2      [phase, high, ways, prognostic, different, ray...\n",
       "3      [phase, ways, different, lymphoma, known, cycl...\n",
       "4      [phase, high, androgens, ways, prostate, diffe...\n",
       "                             ...                        \n",
       "995    [17p, intergroupe, rate, interventional, respo...\n",
       "996    [phase, operated, test, chronic, ttfields, mal...\n",
       "997    [617, radical, coupled, prostate, scanner, pos...\n",
       "998    [phase, high, early, her2, older, combination,...\n",
       "999    [phase, data, preclinical, filo, impact, newly...\n",
       "Name: keywords, Length: 1000, dtype: object"
      ]
     },
     "execution_count": 22,
     "metadata": {},
     "output_type": "execute_result"
    }
   ],
   "source": [
    "from sklearn.feature_extraction.text import ENGLISH_STOP_WORDS\n",
    "\n",
    "def extract_keywords(row):\n",
    "    \n",
    "    text = ' '.join([\n",
    "        str(row['brief_title']),\n",
    "        str(row['official_title']),\n",
    "        str(row['description'])\n",
    "    ]).lower()\n",
    "    # Re to extract words\n",
    "    words = re.findall(r'\\b\\w+\\b', text)\n",
    "    # Remove stop words\n",
    "    stopwords = set(ENGLISH_STOP_WORDS)\n",
    "    keywords = [word for word in words if word not in stopwords and len(word) > 2]\n",
    "    return list(set(keywords))\n",
    "\n",
    "data['keywords'] = data.apply(extract_keywords, axis=1)\n",
    "data['keywords']"
   ]
  },
  {
   "cell_type": "code",
   "execution_count": 23,
   "metadata": {},
   "outputs": [
    {
     "data": {
      "text/plain": [
       "Index(['nct_id', 'last_update_submitted_date', 'overall_status', 'brief_title',\n",
       "       'official_title', 'phase', 'acronym', 'study_type', 'description',\n",
       "       'minimum_age_num', 'minimum_age_unit', 'maximum_age_num',\n",
       "       'maximum_age_unit', 'criteria', 'gender', 'inclusion_criteria',\n",
       "       'exclusion_criteria', 'organs', 'keywords'],\n",
       "      dtype='object')"
      ]
     },
     "execution_count": 23,
     "metadata": {},
     "output_type": "execute_result"
    }
   ],
   "source": [
    "data.columns"
   ]
  },
  {
   "cell_type": "code",
   "execution_count": null,
   "metadata": {},
   "outputs": [
    {
     "name": "stdout",
     "output_type": "stream",
     "text": [
      "Using device: cuda\n"
     ]
    }
   ],
   "source": [
    "# Check GPU availability\n",
    "device = torch.device('cuda' if torch.cuda.is_available() else 'cpu')\n",
    "print(f\"Using device: {device}\")\n",
    "\n",
    "# Load embedding model\n",
    "embedding_model = SentenceTransformer('all-mpnet-base-v2', device=device)"
   ]
  },
  {
   "cell_type": "markdown",
   "metadata": {},
   "source": [
    "I devide my features into structured and unstructured data"
   ]
  },
  {
   "cell_type": "code",
   "execution_count": 25,
   "metadata": {},
   "outputs": [],
   "source": [
    "structured_data = ['age', 'gender', 'organ', 'phase']  # \n",
    "unstructured_data = ['keywords', 'inclusion_criteria', 'description'] #\n"
   ]
  },
  {
   "cell_type": "markdown",
   "metadata": {},
   "source": [
    "In the cell below, I define functions to filter my data. For a given patient, I remove the rows that do not match the patient's data. This filtering is applied to the `structured_data`.\n"
   ]
  },
  {
   "cell_type": "code",
   "execution_count": 26,
   "metadata": {},
   "outputs": [],
   "source": [
    "# Filter Trials Based on Structured Data ['age', 'gender', 'organ', 'phase'] \n",
    "def filter_by_age(df, age):\n",
    "    return df[\n",
    "        ((df['minimum_age'].isna()) | (df['minimum_age'] <= age)) &\n",
    "        ((df['maximum_age'].isna()) | (df['maximum_age'] >= age))\n",
    "    ] # Extract the data corresponding to the age of the patient, and it removes the unnecessary lines \n",
    "\n",
    "def filter_by_gender(df, gender):\n",
    "    if gender.lower() == 'male':\n",
    "        return df[df['gender'].isin(['Male', 'Both'])]\n",
    "    elif gender.lower() == 'female':\n",
    "        return df[df['gender'].isin(['Female', 'Both'])]\n",
    "    else:\n",
    "        return df[df['gender'] == 'Both'] # Extract the data corresponding to the gender of the patient, and remove the unnecessary lines.\n",
    "\n",
    "def filter_by_organ(df, organ):\n",
    "    organ_lower = organ.lower()\n",
    "    return df[df['organs'].apply(lambda organs_list: organ_lower in organs_list)] # Extract the data corresponding to the organ of interest, and remove the unnecessary lines.\n",
    "\n",
    "def filter_by_phase(df, phases):\n",
    "    if not phases:\n",
    "        return df\n",
    "    phases = [phase.lower() for phase in phases]\n",
    "    return df[df['phase'].str.lower().isin(phases)] # Extract the data corresponding to the phase of the clinical trial, and remove the unnecessary lines."
   ]
  },
  {
   "cell_type": "markdown",
   "metadata": {},
   "source": [
    "This cell below generates **text embeddings** for clinical trial data. It combines unstructured text fields (unstructured_data = ['keywords', 'inclusion_criteria', 'description']) into a single text string for each trial, applies a pre-trained embedding model (`SentenceTransformer`), and stores the resulting embeddings in the dataset. These embeddings are precomputed to enable similarity comparisons later.\n"
   ]
  },
  {
   "cell_type": "code",
   "execution_count": null,
   "metadata": {},
   "outputs": [
    {
     "name": "stdout",
     "output_type": "stream",
     "text": [
      "Embedding model loaded.\n",
      "Generating embeddings for all trials...\n"
     ]
    },
    {
     "data": {
      "application/vnd.jupyter.widget-view+json": {
       "model_id": "9452eb1855f744cea78a10a356ad0c26",
       "version_major": 2,
       "version_minor": 0
      },
      "text/plain": [
       "Generating Embeddings:   0%|          | 0/63 [00:00<?, ?it/s]"
      ]
     },
     "metadata": {},
     "output_type": "display_data"
    },
    {
     "name": "stdout",
     "output_type": "stream",
     "text": [
      "Embeddings generated and stored.\n"
     ]
    }
   ],
   "source": [
    "# Load embedding model\n",
    "# Embedding is applied to the unstructred data\n",
    "embedding_model = SentenceTransformer('all-mpnet-base-v2', device=device)\n",
    "print(\"Embedding model loaded.\")\n",
    "\n",
    "# Compute and store embeddings for all trials\n",
    "def batch_embedding(text_list, model, batch_size=16):\n",
    "    \n",
    "    embeddings = []\n",
    "    for i in tqdm(range(0, len(text_list), batch_size), desc=\"Generating Embeddings\"):\n",
    "        batch = text_list[i:i + batch_size]\n",
    "        batch_embeddings = model.encode(batch, convert_to_tensor=True, show_progress_bar=False)\n",
    "        embeddings.extend(batch_embeddings.cpu().numpy())\n",
    "    return embeddings\n",
    "\n",
    "# Prepare data for embedding\n",
    "def combine_text_columns(row):\n",
    "    text = ' '.join([str(row[field]) for field in unstructured_data])\n",
    "    return text\n",
    "\n",
    "data['combined_text'] = data.apply(combine_text_columns, axis=1)\n",
    "\n",
    "print(\"Generating embeddings for all trials...\")\n",
    "data['text_embedding'] = batch_embedding(data['combined_text'].tolist(), embedding_model, batch_size=16)\n",
    "print(\"Embeddings generated and stored.\")\n"
   ]
  },
  {
   "cell_type": "code",
   "execution_count": 28,
   "metadata": {},
   "outputs": [
    {
     "data": {
      "text/plain": [
       "Index(['nct_id', 'last_update_submitted_date', 'overall_status', 'brief_title',\n",
       "       'official_title', 'phase', 'acronym', 'study_type', 'description',\n",
       "       'minimum_age_num', 'minimum_age_unit', 'maximum_age_num',\n",
       "       'maximum_age_unit', 'criteria', 'gender', 'inclusion_criteria',\n",
       "       'exclusion_criteria', 'organs', 'keywords', 'combined_text',\n",
       "       'text_embedding'],\n",
       "      dtype='object')"
      ]
     },
     "execution_count": 28,
     "metadata": {},
     "output_type": "execute_result"
    }
   ],
   "source": [
    "data.columns"
   ]
  },
  {
   "cell_type": "markdown",
   "metadata": {},
   "source": [
    "## `rank_trials` Function: Ranking Clinical Trials\n",
    "\n",
    "This function ranks clinical trials based on their relevance to a given patient's data. It takes a dictionary of patient data, which includes information such as age, gender, organ, keywords related to the patient, and any additional details.\n",
    "\n",
    "### Steps of Calculation\n",
    "\n",
    "1. **Generate Patient Embedding**  \n",
    "   An embedding of the patient's description is created using the `embedding_model`. This embedding vector is later compared to the embeddings of the clinical trials (That are in the column `text_embedding`).\n",
    "\n",
    "2. **Filter Clinical Trials**  \n",
    "   The clinical trial data is filtered to exclude trials that do not match the patient's criteria. The following filters are applied:\n",
    "   - **Age Filter**: Matches the patient’s age with the trial's age requirements.\n",
    "   - **Gender Filter**: Ensures the trial is open to the patient’s gender.\n",
    "   - **Organ Filter**: Checks if the trial is relevant to the specified organ.\n",
    "   - **Phase Filter** (if provided): Filters trials based on specific trial phases.\n",
    "\n",
    "3. **Calculate Similarity Scores**  \n",
    "   For the remaining trials, the cosine similarity between the patient embedding and the embeddings of the trial descriptions (`text_embedding`) is calculated. The similarity score reflects how closely a trial aligns with the patient's information.\n",
    "\n",
    "4. **Rank Trials**  \n",
    "   The trials are ranked in descending order of their similarity scores, with the most relevant trials appearing first.\n",
    "\n",
    "\n"
   ]
  },
  {
   "cell_type": "code",
   "execution_count": 29,
   "metadata": {},
   "outputs": [],
   "source": [
    "def rank_trials(patient_data, trials_data, embedding_model):\n",
    "    \"\"\"\n",
    "    Rank trials based on the desciption of patient data.\n",
    "    \"\"\"\n",
    "    # Create patient description for embedding\n",
    "    patient_description = \" \".join([\n",
    "        f\"Age: {patient_data.get('age', '')}\",\n",
    "        f\"Gender: {patient_data.get('gender', '')}\",\n",
    "        f\"Organ: {patient_data.get('organ', '')}\",\n",
    "        f\"Keywords: {' '.join(patient_data.get('keywords', []))}\", # a key word related to the patient's condition\n",
    "        f\"Inclusion Criteria: {patient_data.get('patient_information', '')}\", # Compare patient information with the inclusion criteria present in the critera column\n",
    "    ])\n",
    "    \n",
    "    # Embed the patient's data\n",
    "    patient_embedding = embedding_model.encode(patient_description, convert_to_tensor=True)\n",
    "\n",
    "    # Apply filters\n",
    "    filtered_trials = trials_data.copy()\n",
    "\n",
    "    # Age filter\n",
    "    filtered_trials = filter_by_age(filtered_trials, patient_data['age'])\n",
    "\n",
    "    # Gender filter\n",
    "    filtered_trials = filter_by_gender(filtered_trials, patient_data['gender'])\n",
    "    \n",
    "    # Organ filter\n",
    "    filtered_trials = filter_by_organ(filtered_trials, patient_data['organ'])\n",
    "\n",
    "    # Phase filter(if the filter is)\n",
    "    filtered_trials = filter_by_phase(filtered_trials, patient_data.get('phase', []))\n",
    "\n",
    "    if filtered_trials.empty:\n",
    "        print(\"No trials found matching the criteria.\")\n",
    "        return pd.DataFrame()\n",
    "\n",
    "    # Compute similarity scores\n",
    "    trial_embeddings = np.vstack(filtered_trials['text_embedding'].values)\n",
    "    print(\"Computing similarity scores...\")\n",
    "    trial_embeddings_tensor = torch.tensor(trial_embeddings, device=patient_embedding.device)\n",
    "    similarity_scores = util.pytorch_cos_sim(patient_embedding, trial_embeddings_tensor).cpu().numpy()[0]\n",
    "\n",
    "    # Add similarity scores to the DataFrame\n",
    "    filtered_trials = filtered_trials.reset_index(drop=True)\n",
    "    filtered_trials['similarity_score'] = similarity_scores\n",
    "\n",
    "    # Rank the trials\n",
    "    ranked_data = filtered_trials.sort_values(by='similarity_score', ascending=False)\n",
    "\n",
    "    return ranked_data\n"
   ]
  },
  {
   "cell_type": "code",
   "execution_count": null,
   "metadata": {},
   "outputs": [
    {
     "name": "stdout",
     "output_type": "stream",
     "text": [
      "Computing similarity scores...\n",
      "Trial ID: NCT00251433\n",
      "Similarity Score: 0.7048949599266052\n",
      "Title: GW572016 With Docetaxel and Trastuzumab for the Treatment Of Untreated ErbB2 Over-Expressing Metastatic Breast Cancer\n",
      "Phase: Phase 1\n",
      "Organ(s): ['breast']\n",
      "Trial ID: NCT02759133\n",
      "Similarity Score: 0.693721354007721\n",
      "Title: Preoperative Localization of Infraclinical Breast Tumors: Isotopic Localization by iodine125 Seed Versus Standard Localization Using a Metal Wire\n",
      "Phase: Not Applicable\n",
      "Organ(s): ['breast']\n",
      "Trial ID: NCT03498716\n",
      "Similarity Score: 0.6801649928092957\n",
      "Title: A Study Comparing Atezolizumab (Anti PD-L1 Antibody) In Combination With Adjuvant Anthracycline/Taxane-Based Chemotherapy Versus Chemotherapy Alone In Patients With Operable Triple-Negative Breast Cancer\n",
      "Phase: Phase 3\n",
      "Organ(s): ['breast', 'skin']\n",
      "Trial ID: NCT00470236\n",
      "Similarity Score: 0.6764039993286133\n",
      "Title: Radiation Doses and Fractionation Schedules in Non-low Risk Ductal Carcinoma In Situ (DCIS) of the Breast\n",
      "Phase: Not Applicable\n",
      "Organ(s): ['colon', 'breast', 'thyroid', 'skin']\n",
      "Trial ID: NCT03584334\n",
      "Similarity Score: 0.6744063496589661\n",
      "Title: 18FDG PET for Early Identification of Tumor Exhaust for Immunotherapy in Patients With Locally Advanced or Metastatic Non-Small Cell Bronchopulmonary Carcinoma or Melanoma\n",
      "Phase: Not Applicable\n",
      "Organ(s): ['breast']\n",
      "Trial ID: NCT02775903\n",
      "Similarity Score: 0.6739884614944458\n",
      "Title: An Efficacy and Safety Study of Azacitidine Subcutaneous in Combination With Durvalumab (MEDI4736) in Previously Untreated Adults With Higher-Risk Myelodysplastic Syndromes (MDS) or in Elderly Patients With Acute Myeloid Leukemia (AML)\n",
      "Phase: Phase 2\n",
      "Organ(s): ['breast', 'thyroid', 'skin', 'prostate', 'colon', 'lung']\n",
      "Trial ID: NCT03321981\n",
      "Similarity Score: 0.6726511716842651\n",
      "Title: MCLA-128 With Trastuzumab/Chemotherapy in HER2+ and With Endocrine Therapy in ER+ and Low HER2 Breast Cancer\n",
      "Phase: Phase 2\n",
      "Organ(s): ['breast', 'skin']\n",
      "Trial ID: NCT01977274\n",
      "Similarity Score: 0.6700221300125122\n",
      "Title: Predictive Clinical and Biological Parameters in Gynecological Cancer\n",
      "Phase: Not Applicable\n",
      "Organ(s): ['breast']\n",
      "Trial ID: NCT01358877\n",
      "Similarity Score: 0.6625820398330688\n",
      "Title: A Study of Pertuzumab in Addition to Chemotherapy and Trastuzumab as Adjuvant Therapy in Participants With Human Epidermal Growth Receptor 2 (HER2)-Positive Primary Breast Cancer\n",
      "Phase: Phase 3\n",
      "Organ(s): ['colon', 'breast', 'skin']\n",
      "Trial ID: NCT02285179\n",
      "Similarity Score: 0.6502717137336731\n",
      "Title: Clinical Trial to Evaluate the Safety and Effectiveness of GDC-0032 When Given Alongside Tamoxifen\n",
      "Phase: Phase 1/Phase 2\n",
      "Organ(s): ['breast', 'brain', 'skin']\n"
     ]
    }
   ],
   "source": [
    "patient_data = {\n",
    "    \"gender\": \"Female\",\n",
    "    \"age\": 53,\n",
    "    \"organ\": \"Breast\",\n",
    "    #\"phase\": [\"Phase 2\"],  # Optional\n",
    "    \"keywords\": [\"\"],  # Optional\n",
    "    \"patient_information\": \"patient is pregnent\",  # Optional\n",
    "}\n",
    "\n",
    "# Rank trials based on patient data\n",
    "ranked_trials = rank_trials(patient_data, data, embedding_model)\n",
    "\n",
    "# Display Top Trials\n",
    "top_n = 10\n",
    "top_trials = ranked_trials.head(top_n)\n",
    "\n",
    "results_table = top_trials[['nct_id', 'similarity_score']]\n",
    "results_table\n",
    "# Show the results\n",
    "for idx, row in top_trials.iterrows():\n",
    "    print(f\"Trial ID: {row['nct_id']}\")  \n",
    "    print(f\"Similarity Score: {row['similarity_score']}\")\n",
    "    print(f\"Title: {row['brief_title']}\")\n",
    "    print(f\"Phase: {row['phase']}\")\n",
    "    print(f\"Organ(s): {row['organs']}\")\n",
    "    #print(f\"inclusion: {row['inclusion_criteria']}\")\n",
    "    # print(f\"Keywords: {row['keywords']}\")\n",
    "    # print('-' * 80)\n"
   ]
  },
  {
   "cell_type": "code",
   "execution_count": 36,
   "metadata": {},
   "outputs": [
    {
     "data": {
      "text/html": [
       "<div>\n",
       "<style scoped>\n",
       "    .dataframe tbody tr th:only-of-type {\n",
       "        vertical-align: middle;\n",
       "    }\n",
       "\n",
       "    .dataframe tbody tr th {\n",
       "        vertical-align: top;\n",
       "    }\n",
       "\n",
       "    .dataframe thead th {\n",
       "        text-align: right;\n",
       "    }\n",
       "</style>\n",
       "<table border=\"1\" class=\"dataframe\">\n",
       "  <thead>\n",
       "    <tr style=\"text-align: right;\">\n",
       "      <th></th>\n",
       "      <th>nct_id</th>\n",
       "      <th>similarity_score</th>\n",
       "    </tr>\n",
       "  </thead>\n",
       "  <tbody>\n",
       "    <tr>\n",
       "      <th>0</th>\n",
       "      <td>NCT00251433</td>\n",
       "      <td>0.704895</td>\n",
       "    </tr>\n",
       "    <tr>\n",
       "      <th>172</th>\n",
       "      <td>NCT02759133</td>\n",
       "      <td>0.693721</td>\n",
       "    </tr>\n",
       "    <tr>\n",
       "      <th>398</th>\n",
       "      <td>NCT03498716</td>\n",
       "      <td>0.680165</td>\n",
       "    </tr>\n",
       "    <tr>\n",
       "      <th>3</th>\n",
       "      <td>NCT00470236</td>\n",
       "      <td>0.676404</td>\n",
       "    </tr>\n",
       "    <tr>\n",
       "      <th>433</th>\n",
       "      <td>NCT03584334</td>\n",
       "      <td>0.674406</td>\n",
       "    </tr>\n",
       "    <tr>\n",
       "      <th>175</th>\n",
       "      <td>NCT02775903</td>\n",
       "      <td>0.673988</td>\n",
       "    </tr>\n",
       "    <tr>\n",
       "      <th>336</th>\n",
       "      <td>NCT03321981</td>\n",
       "      <td>0.672651</td>\n",
       "    </tr>\n",
       "    <tr>\n",
       "      <th>54</th>\n",
       "      <td>NCT01977274</td>\n",
       "      <td>0.670022</td>\n",
       "    </tr>\n",
       "    <tr>\n",
       "      <th>14</th>\n",
       "      <td>NCT01358877</td>\n",
       "      <td>0.662582</td>\n",
       "    </tr>\n",
       "    <tr>\n",
       "      <th>92</th>\n",
       "      <td>NCT02285179</td>\n",
       "      <td>0.650272</td>\n",
       "    </tr>\n",
       "  </tbody>\n",
       "</table>\n",
       "</div>"
      ],
      "text/plain": [
       "          nct_id  similarity_score\n",
       "0    NCT00251433          0.704895\n",
       "172  NCT02759133          0.693721\n",
       "398  NCT03498716          0.680165\n",
       "3    NCT00470236          0.676404\n",
       "433  NCT03584334          0.674406\n",
       "175  NCT02775903          0.673988\n",
       "336  NCT03321981          0.672651\n",
       "54   NCT01977274          0.670022\n",
       "14   NCT01358877          0.662582\n",
       "92   NCT02285179          0.650272"
      ]
     },
     "execution_count": 36,
     "metadata": {},
     "output_type": "execute_result"
    }
   ],
   "source": [
    "results_table"
   ]
  }
 ],
 "metadata": {
  "kernelspec": {
   "display_name": "Python 3",
   "language": "python",
   "name": "python3"
  },
  "language_info": {
   "codemirror_mode": {
    "name": "ipython",
    "version": 3
   },
   "file_extension": ".py",
   "mimetype": "text/x-python",
   "name": "python",
   "nbconvert_exporter": "python",
   "pygments_lexer": "ipython3",
   "version": "3.10.1"
  }
 },
 "nbformat": 4,
 "nbformat_minor": 2
}
